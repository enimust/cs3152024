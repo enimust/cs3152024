{
 "cells": [
  {
   "cell_type": "markdown",
   "id": "f81494f8-5909-4ded-a74e-b92109889bfd",
   "metadata": {},
   "source": [
    "1. I created a simple notebook to try out the code from Slide 28 (using my NYT API key). \n",
    "2. I wrote some more code to find out the top five “section_name”-s for the articles of Feb 2024."
   ]
  },
  {
   "cell_type": "code",
   "execution_count": 1,
   "id": "25ea8b4b-7800-4a18-a06e-51ad3b635c6b",
   "metadata": {},
   "outputs": [],
   "source": [
    "import requests\n",
    "import datetime\n",
    "from datetime import datetime"
   ]
  },
  {
   "cell_type": "code",
   "execution_count": 2,
   "id": "6718151f-b9c6-447d-83c3-d07244df4ec4",
   "metadata": {},
   "outputs": [],
   "source": [
    "myAPI = \"AVRmL9G7hDl2S3F3LOpFITIdgzkBA1f3\""
   ]
  },
  {
   "cell_type": "code",
   "execution_count": 3,
   "id": "a538db68-0dc7-447a-8166-7ec45d72eb75",
   "metadata": {},
   "outputs": [
    {
     "name": "stdout",
     "output_type": "stream",
     "text": [
      "https://api.nytimes.com/svc/archive/v1/2024/2.json?api-key=AVRmL9G7hDl2S3F3LOpFITIdgzkBA1f3\n"
     ]
    }
   ],
   "source": [
    "year = 2024\n",
    "month = 2\n",
    "\n",
    "url = f\"https://api.nytimes.com/svc/archive/v1/{year}/{month}.json?api-key={myAPI}\"\n",
    "print(url)"
   ]
  },
  {
   "cell_type": "code",
   "execution_count": 4,
   "id": "e2898428-47ea-4327-8c45-c8cb75944868",
   "metadata": {},
   "outputs": [
    {
     "data": {
      "text/plain": [
       "200"
      ]
     },
     "execution_count": 4,
     "metadata": {},
     "output_type": "execute_result"
    }
   ],
   "source": [
    "data = requests.get(url)\n",
    "data.status_code"
   ]
  },
  {
   "cell_type": "code",
   "execution_count": 5,
   "id": "750e8ad9-8666-4845-acc9-91e46ed27ecf",
   "metadata": {},
   "outputs": [
    {
     "data": {
      "text/plain": [
       "2"
      ]
     },
     "execution_count": 5,
     "metadata": {},
     "output_type": "execute_result"
    }
   ],
   "source": [
    "articles = data.json()\n",
    "len(articles)"
   ]
  },
  {
   "cell_type": "code",
   "execution_count": 6,
   "id": "b2549383-9898-4ed2-aab7-f888921b61d5",
   "metadata": {},
   "outputs": [
    {
     "data": {
      "text/plain": [
       "dict_keys(['copyright', 'response'])"
      ]
     },
     "execution_count": 6,
     "metadata": {},
     "output_type": "execute_result"
    }
   ],
   "source": [
    "articles.keys()"
   ]
  },
  {
   "cell_type": "code",
   "execution_count": 7,
   "id": "ac218b79-8ca3-4c6c-8f80-11a33c9f7c02",
   "metadata": {},
   "outputs": [
    {
     "data": {
      "text/plain": [
       "{'abstract': 'Periods of backlash take shape after surges of Black progress. We have entered another such period.',\n",
       " 'web_url': 'https://www.nytimes.com/2024/01/31/opinion/racist-backlash-history.html',\n",
       " 'snippet': 'Periods of backlash take shape after surges of Black progress. We have entered another such period.',\n",
       " 'lead_paragraph': 'I am fascinated, and alarmed, by the swiftness with which periods of backlash take shape after surges of Black progress, and I believe that we have entered another such period.',\n",
       " 'print_section': 'A',\n",
       " 'print_page': '21',\n",
       " 'source': 'The New York Times',\n",
       " 'multimedia': [{'rank': 0,\n",
       "   'subtype': 'xlarge',\n",
       "   'caption': None,\n",
       "   'credit': None,\n",
       "   'type': 'image',\n",
       "   'url': 'images/2024/02/01/multimedia/31blow1-hvfq/31blow1-hvfq-articleLarge.jpg',\n",
       "   'height': 800,\n",
       "   'width': 600,\n",
       "   'subType': 'xlarge',\n",
       "   'crop_name': 'articleLarge',\n",
       "   'legacy': {'xlarge': 'images/2024/02/01/multimedia/31blow1-hvfq/31blow1-hvfq-articleLarge.jpg',\n",
       "    'xlargewidth': 600,\n",
       "    'xlargeheight': 800}},\n",
       "  {'rank': 0,\n",
       "   'subtype': 'jumbo',\n",
       "   'caption': None,\n",
       "   'credit': None,\n",
       "   'type': 'image',\n",
       "   'url': 'images/2024/02/01/multimedia/31blow1-hvfq/31blow1-hvfq-jumbo.jpg',\n",
       "   'height': 1024,\n",
       "   'width': 768,\n",
       "   'subType': 'jumbo',\n",
       "   'crop_name': 'jumbo',\n",
       "   'legacy': {}},\n",
       "  {'rank': 0,\n",
       "   'subtype': 'superJumbo',\n",
       "   'caption': None,\n",
       "   'credit': None,\n",
       "   'type': 'image',\n",
       "   'url': 'images/2024/02/01/multimedia/31blow1-hvfq/31blow1-hvfq-superJumbo.jpg',\n",
       "   'height': 2048,\n",
       "   'width': 1536,\n",
       "   'subType': 'superJumbo',\n",
       "   'crop_name': 'superJumbo',\n",
       "   'legacy': {}},\n",
       "  {'rank': 0,\n",
       "   'subtype': 'thumbnail',\n",
       "   'caption': None,\n",
       "   'credit': None,\n",
       "   'type': 'image',\n",
       "   'url': 'images/2024/02/01/multimedia/31blow1-hvfq/31blow1-hvfq-thumbStandard.jpg',\n",
       "   'height': 75,\n",
       "   'width': 75,\n",
       "   'subType': 'thumbnail',\n",
       "   'crop_name': 'thumbStandard',\n",
       "   'legacy': {'thumbnail': 'images/2024/02/01/multimedia/31blow1-hvfq/31blow1-hvfq-thumbStandard.jpg',\n",
       "    'thumbnailwidth': 75,\n",
       "    'thumbnailheight': 75}},\n",
       "  {'rank': 0,\n",
       "   'subtype': 'thumbLarge',\n",
       "   'caption': None,\n",
       "   'credit': None,\n",
       "   'type': 'image',\n",
       "   'url': 'images/2024/02/01/multimedia/31blow1-hvfq/31blow1-hvfq-thumbLarge.jpg',\n",
       "   'height': 150,\n",
       "   'width': 150,\n",
       "   'subType': 'thumbLarge',\n",
       "   'crop_name': 'thumbLarge',\n",
       "   'legacy': {}}],\n",
       " 'headline': {'main': 'The Dawn of a New Era of Oppression',\n",
       "  'kicker': 'Charles M. Blow',\n",
       "  'content_kicker': None,\n",
       "  'print_headline': 'The Dawn of a New Era of Oppression',\n",
       "  'name': None,\n",
       "  'seo': None,\n",
       "  'sub': None},\n",
       " 'keywords': [{'name': 'subject',\n",
       "   'value': 'Hate Crimes',\n",
       "   'rank': 1,\n",
       "   'major': 'N'},\n",
       "  {'name': 'subject', 'value': 'Black People', 'rank': 2, 'major': 'N'},\n",
       "  {'name': 'subject', 'value': 'Blacks', 'rank': 3, 'major': 'N'},\n",
       "  {'name': 'subject', 'value': 'Discrimination', 'rank': 4, 'major': 'N'},\n",
       "  {'name': 'subject',\n",
       "   'value': 'Civil Rights Movement (1954-68)',\n",
       "   'rank': 5,\n",
       "   'major': 'N'},\n",
       "  {'name': 'subject', 'value': 'Reconstruction Era', 'rank': 6, 'major': 'N'},\n",
       "  {'name': 'subject',\n",
       "   'value': 'Segregation and Desegregation',\n",
       "   'rank': 7,\n",
       "   'major': 'N'},\n",
       "  {'name': 'persons',\n",
       "   'value': 'Nixon, Richard Milhous',\n",
       "   'rank': 8,\n",
       "   'major': 'N'}],\n",
       " 'pub_date': '2024-02-01T00:00:08+0000',\n",
       " 'document_type': 'article',\n",
       " 'news_desk': 'OpEd',\n",
       " 'section_name': 'Opinion',\n",
       " 'byline': {'original': 'By Charles M. Blow',\n",
       "  'person': [{'firstname': 'Charles',\n",
       "    'middlename': None,\n",
       "    'lastname': '',\n",
       "    'qualifier': None,\n",
       "    'title': None,\n",
       "    'role': 'reported',\n",
       "    'organization': '',\n",
       "    'rank': 1}],\n",
       "  'organization': None},\n",
       " 'type_of_material': 'Op-Ed',\n",
       " '_id': 'nyt://article/f2a4bafd-6333-5aee-8bd7-08fa9572ec5e',\n",
       " 'word_count': 928,\n",
       " 'uri': 'nyt://article/f2a4bafd-6333-5aee-8bd7-08fa9572ec5e'}"
      ]
     },
     "execution_count": 7,
     "metadata": {},
     "output_type": "execute_result"
    }
   ],
   "source": [
    "articles['response']['docs'][0]"
   ]
  },
  {
   "cell_type": "code",
   "execution_count": 8,
   "id": "04743f2a-4ed8-4a67-9c0c-a20731419f45",
   "metadata": {},
   "outputs": [],
   "source": [
    "allStories = articles['response']['docs']"
   ]
  },
  {
   "cell_type": "code",
   "execution_count": 9,
   "id": "dd8c58c7-1e65-4e90-8485-691e0b07c499",
   "metadata": {},
   "outputs": [],
   "source": [
    "febSections = {}\n",
    "\n",
    "# iterate through articles\n",
    "for article in allStories:\n",
    "    date = datetime.strptime(article['pub_date'], \"%Y-%m-%dT%H:%M:%S%z\")\n",
    "    month = date.month\n",
    "    year = date.year\n",
    "    # zoom in to those for feb\n",
    "    if month == 2 and year == 2024:\n",
    "        # get the section_name \n",
    "        section = article['section_name']\n",
    "        # store them together with their counts\n",
    "        if section in febSections:\n",
    "            febSections[section] += 1\n",
    "        else:\n",
    "            febSections[section] = 1"
   ]
  },
  {
   "cell_type": "code",
   "execution_count": 10,
   "id": "a3875424-3f44-45ae-a0c9-4c4697d68055",
   "metadata": {},
   "outputs": [
    {
     "data": {
      "text/plain": [
       "{'U.S.': 734,\n",
       " 'World': 513,\n",
       " 'Arts': 326,\n",
       " 'Opinion': 272,\n",
       " 'Business Day': 244,\n",
       " 'New York': 200,\n",
       " 'Style': 174,\n",
       " 'Books': 139,\n",
       " 'Crosswords & Games': 125,\n",
       " 'Movies': 123,\n",
       " 'Food': 80,\n",
       " 'Podcasts': 79,\n",
       " 'The Learning Network': 78,\n",
       " 'Briefing': 77,\n",
       " 'Real Estate': 62,\n",
       " 'Theater': 58,\n",
       " 'Health': 58,\n",
       " 'Corrections': 56,\n",
       " 'T Magazine': 51,\n",
       " 'Science': 50,\n",
       " 'Climate': 50,\n",
       " 'Technology': 49,\n",
       " 'Well': 47,\n",
       " 'Magazine': 41,\n",
       " 'Travel': 31,\n",
       " 'Times Insider': 22,\n",
       " 'The Upshot': 19,\n",
       " 'Your Money': 7,\n",
       " 'Sports': 7,\n",
       " 'T Brand': 4,\n",
       " 'Headway': 4,\n",
       " 'Obituaries': 3,\n",
       " 'Smarter Living': 3,\n",
       " 'Today’s Paper': 2,\n",
       " 'Fashion & Style': 2,\n",
       " 'International Home': 1}"
      ]
     },
     "execution_count": 10,
     "metadata": {},
     "output_type": "execute_result"
    }
   ],
   "source": [
    "febSections = dict(sorted(febSections.items(), key=lambda item: item[1], reverse=True))\n",
    "febSections"
   ]
  },
  {
   "cell_type": "code",
   "execution_count": 11,
   "id": "664d4aa7-6608-443b-a607-af3727c335df",
   "metadata": {},
   "outputs": [
    {
     "data": {
      "text/plain": [
       "['U.S.', 'World', 'Arts', 'Opinion', 'Business Day']"
      ]
     },
     "execution_count": 11,
     "metadata": {},
     "output_type": "execute_result"
    }
   ],
   "source": [
    "# get the top 5\n",
    "topFive = list(febSections.keys())[:5]\n",
    "topFive"
   ]
  },
  {
   "cell_type": "code",
   "execution_count": null,
   "id": "ff228ae5-42fa-475f-b41a-b6015d41ac4a",
   "metadata": {},
   "outputs": [],
   "source": []
  }
 ],
 "metadata": {
  "kernelspec": {
   "display_name": "Python 3 (ipykernel)",
   "language": "python",
   "name": "python3"
  },
  "language_info": {
   "codemirror_mode": {
    "name": "ipython",
    "version": 3
   },
   "file_extension": ".py",
   "mimetype": "text/x-python",
   "name": "python",
   "nbconvert_exporter": "python",
   "pygments_lexer": "ipython3",
   "version": "3.11.5"
  }
 },
 "nbformat": 4,
 "nbformat_minor": 5
}
